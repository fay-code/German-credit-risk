{
 "cells": [
  {
   "cell_type": "code",
   "execution_count": 1,
   "id": "c2b73df7",
   "metadata": {},
   "outputs": [],
   "source": [
    "import numpy as np\n",
    "import pandas as pd\n",
    "import matplotlib.pyplot as plt\n",
    "import seaborn as sns\n",
    "import random\n",
    "%matplotlib inline"
   ]
  },
  {
   "cell_type": "code",
   "execution_count": 14,
   "id": "bc18454b",
   "metadata": {},
   "outputs": [],
   "source": [
    "columns = [\"Sepal Length\", \"Sepal Width\", \"Petal Length\", \"Petal Width\", \"class\"]\n",
    "iris_data = pd.read_csv(\"iris.data\", names=columns)"
   ]
  },
  {
   "cell_type": "code",
   "execution_count": 15,
   "id": "a9d38059",
   "metadata": {},
   "outputs": [
    {
     "data": {
      "text/html": [
       "<div>\n",
       "<style scoped>\n",
       "    .dataframe tbody tr th:only-of-type {\n",
       "        vertical-align: middle;\n",
       "    }\n",
       "\n",
       "    .dataframe tbody tr th {\n",
       "        vertical-align: top;\n",
       "    }\n",
       "\n",
       "    .dataframe thead th {\n",
       "        text-align: right;\n",
       "    }\n",
       "</style>\n",
       "<table border=\"1\" class=\"dataframe\">\n",
       "  <thead>\n",
       "    <tr style=\"text-align: right;\">\n",
       "      <th></th>\n",
       "      <th>Sepal Length</th>\n",
       "      <th>Sepal Width</th>\n",
       "      <th>Petal Length</th>\n",
       "      <th>Petal Width</th>\n",
       "      <th>class</th>\n",
       "    </tr>\n",
       "  </thead>\n",
       "  <tbody>\n",
       "    <tr>\n",
       "      <th>0</th>\n",
       "      <td>5.1</td>\n",
       "      <td>3.5</td>\n",
       "      <td>1.4</td>\n",
       "      <td>0.2</td>\n",
       "      <td>Iris-setosa</td>\n",
       "    </tr>\n",
       "    <tr>\n",
       "      <th>1</th>\n",
       "      <td>4.9</td>\n",
       "      <td>3.0</td>\n",
       "      <td>1.4</td>\n",
       "      <td>0.2</td>\n",
       "      <td>Iris-setosa</td>\n",
       "    </tr>\n",
       "    <tr>\n",
       "      <th>2</th>\n",
       "      <td>4.7</td>\n",
       "      <td>3.2</td>\n",
       "      <td>1.3</td>\n",
       "      <td>0.2</td>\n",
       "      <td>Iris-setosa</td>\n",
       "    </tr>\n",
       "    <tr>\n",
       "      <th>3</th>\n",
       "      <td>4.6</td>\n",
       "      <td>3.1</td>\n",
       "      <td>1.5</td>\n",
       "      <td>0.2</td>\n",
       "      <td>Iris-setosa</td>\n",
       "    </tr>\n",
       "    <tr>\n",
       "      <th>4</th>\n",
       "      <td>5.0</td>\n",
       "      <td>3.6</td>\n",
       "      <td>1.4</td>\n",
       "      <td>0.2</td>\n",
       "      <td>Iris-setosa</td>\n",
       "    </tr>\n",
       "  </tbody>\n",
       "</table>\n",
       "</div>"
      ],
      "text/plain": [
       "   Sepal Length  Sepal Width  Petal Length  Petal Width        class\n",
       "0           5.1          3.5           1.4          0.2  Iris-setosa\n",
       "1           4.9          3.0           1.4          0.2  Iris-setosa\n",
       "2           4.7          3.2           1.3          0.2  Iris-setosa\n",
       "3           4.6          3.1           1.5          0.2  Iris-setosa\n",
       "4           5.0          3.6           1.4          0.2  Iris-setosa"
      ]
     },
     "execution_count": 15,
     "metadata": {},
     "output_type": "execute_result"
    }
   ],
   "source": [
    "iris_data.head()"
   ]
  },
  {
   "cell_type": "code",
   "execution_count": 16,
   "id": "f952d119",
   "metadata": {},
   "outputs": [
    {
     "name": "stdout",
     "output_type": "stream",
     "text": [
      "       Sepal Length  Sepal Width  Petal Length  Petal Width\n",
      "count    150.000000   150.000000    150.000000   150.000000\n",
      "mean       5.843333     3.054000      3.758667     1.198667\n",
      "std        0.828066     0.433594      1.764420     0.763161\n",
      "min        4.300000     2.000000      1.000000     0.100000\n",
      "25%        5.100000     2.800000      1.600000     0.300000\n",
      "50%        5.800000     3.000000      4.350000     1.300000\n",
      "75%        6.400000     3.300000      5.100000     1.800000\n",
      "max        7.900000     4.400000      6.900000     2.500000\n"
     ]
    }
   ],
   "source": [
    "print(iris_data.describe())"
   ]
  },
  {
   "cell_type": "code",
   "execution_count": 5,
   "id": "d97c1be9",
   "metadata": {},
   "outputs": [],
   "source": [
    "data = pd.DataFrame({\"Min\":[4.300000,2.000000,1.000000,0.100000],\"Max\":[7.900000,4.400000,6.900000,2.500000],\"Mean\":[5.848322,3.051007,3.774497,1.205369],\"Std Deviasi\":[0.828594,0.433499,1.759651,0.761292],\"Class correlation\":[5.1,3.5,1.4,0.2]})\n",
    "data.index = [\"Sepal Length\", \"Sepal Width\", \"Petal Length\", \"Petal Width\"]"
   ]
  },
  {
   "cell_type": "code",
   "execution_count": 6,
   "id": "62e0e9e7",
   "metadata": {},
   "outputs": [
    {
     "data": {
      "text/html": [
       "<div>\n",
       "<style scoped>\n",
       "    .dataframe tbody tr th:only-of-type {\n",
       "        vertical-align: middle;\n",
       "    }\n",
       "\n",
       "    .dataframe tbody tr th {\n",
       "        vertical-align: top;\n",
       "    }\n",
       "\n",
       "    .dataframe thead th {\n",
       "        text-align: right;\n",
       "    }\n",
       "</style>\n",
       "<table border=\"1\" class=\"dataframe\">\n",
       "  <thead>\n",
       "    <tr style=\"text-align: right;\">\n",
       "      <th></th>\n",
       "      <th>Min</th>\n",
       "      <th>Max</th>\n",
       "      <th>Mean</th>\n",
       "      <th>Std Deviasi</th>\n",
       "      <th>Class correlation</th>\n",
       "    </tr>\n",
       "  </thead>\n",
       "  <tbody>\n",
       "    <tr>\n",
       "      <th>Sepal Length</th>\n",
       "      <td>4.3</td>\n",
       "      <td>7.9</td>\n",
       "      <td>5.848322</td>\n",
       "      <td>0.828594</td>\n",
       "      <td>5.1</td>\n",
       "    </tr>\n",
       "    <tr>\n",
       "      <th>Sepal Width</th>\n",
       "      <td>2.0</td>\n",
       "      <td>4.4</td>\n",
       "      <td>3.051007</td>\n",
       "      <td>0.433499</td>\n",
       "      <td>3.5</td>\n",
       "    </tr>\n",
       "    <tr>\n",
       "      <th>Petal Length</th>\n",
       "      <td>1.0</td>\n",
       "      <td>6.9</td>\n",
       "      <td>3.774497</td>\n",
       "      <td>1.759651</td>\n",
       "      <td>1.4</td>\n",
       "    </tr>\n",
       "    <tr>\n",
       "      <th>Petal Width</th>\n",
       "      <td>0.1</td>\n",
       "      <td>2.5</td>\n",
       "      <td>1.205369</td>\n",
       "      <td>0.761292</td>\n",
       "      <td>0.2</td>\n",
       "    </tr>\n",
       "  </tbody>\n",
       "</table>\n",
       "</div>"
      ],
      "text/plain": [
       "              Min  Max      Mean  Std Deviasi  Class correlation\n",
       "Sepal Length  4.3  7.9  5.848322     0.828594                5.1\n",
       "Sepal Width   2.0  4.4  3.051007     0.433499                3.5\n",
       "Petal Length  1.0  6.9  3.774497     1.759651                1.4\n",
       "Petal Width   0.1  2.5  1.205369     0.761292                0.2"
      ]
     },
     "execution_count": 6,
     "metadata": {},
     "output_type": "execute_result"
    }
   ],
   "source": [
    "data"
   ]
  },
  {
   "cell_type": "code",
   "execution_count": 7,
   "id": "8d752ea9",
   "metadata": {},
   "outputs": [
    {
     "data": {
      "image/png": "[encoded data removed]",
      "text/plain": [
       "<Figure size 432x288 with 1 Axes>"
      ]
     },
     "metadata": {
      "needs_background": "light"
     },
     "output_type": "display_data"
    }
   ],
   "source": [
    "kelas_correlation = [\"Iris-setosa\",\"iris-versicolor Species\",\"iris-virginica\"]\n",
    "Sepal_ukuran = [250,300,330]\n",
    "warna_bar = [\"blue\",\"teal\"]\n",
    "\n",
    "plt.bar(kelas_correlation, Sepal_ukuran, color=warna_bar)\n",
    "plt.title(\"Bar Chart\")\n",
    "plt.xlabel(\"Species\")\n",
    "plt.ylabel(\"Sepal Length\")\n",
    "plt.show()"
   ]
  },
  {
   "cell_type": "code",
   "execution_count": 8,
   "id": "5b9d5296",
   "metadata": {},
   "outputs": [
    {
     "data": {
      "image/png": "[encoded data removed]",
      "text/plain": [
       "<Figure size 432x288 with 1 Axes>"
      ]
     },
     "metadata": {
      "needs_background": "light"
     },
     "output_type": "display_data"
    }
   ],
   "source": [
    "x = [5.1,3.5,1.4,0.2,4.9,3.0,1.4,0.2,4.7,3.2,1.3,0.2,\n",
    "4.6,3.1,1.5,0.2,\n",
    "5.0,3.6,1.4,0.2,\n",
    "5.4,3.9,1.7,0.4,\n",
    "4.6,3.4,1.4,0.3,\n",
    "5.0,3.4,1.5,0.2,\n",
    "4.4,2.9,1.4,0.2,\n",
    "4.9,3.1,1.5,0.1,\n",
    "5.4,3.7,1.5,0.2,\n",
    "4.8,3.4,1.6,0.2,\n",
    "4.8,3.0,1.4,0.1,\n",
    "4.3,3.0,1.1,0.1,\n",
    "5.8,4.0,1.2,0.2,\n",
    "5.7,4.4,1.5,0.4,\n",
    "5.4,3.9,1.3,0.4,\n",
    "5.1,3.5,1.4,0.3,\n",
    "5.7,3.8,1.7,0.3,\n",
    "5.1,3.8,1.5,0.3,\n",
    "5.4,3.4,1.7,0.2,\n",
    "5.1,3.7,1.5,0.4,\n",
    "4.6,3.6,1.0,0.2,\n",
    "5.1,3.3,1.7,0.5,\n",
    "4.8,3.4,1.9,0.2,\n",
    "5.0,3.0,1.6,0.2,\n",
    "5.0,3.4,1.6,0.4,\n",
    "5.2,3.5,1.5,0.2,\n",
    "5.2,3.4,1.4,0.2,\n",
    "4.7,3.2,1.6,0.2,\n",
    "4.8,3.1,1.6,0.2,\n",
    "5.4,3.4,1.5,0.4,\n",
    "5.2,4.1,1.5,0.1,\n",
    "5.5,4.2,1.4,0.2,\n",
    "4.9,3.1,1.5,0.1,\n",
    "5.0,3.2,1.2,0.2,\n",
    "5.5,3.5,1.3,0.2,\n",
    "4.9,3.1,1.5,0.1,\n",
    "4.4,3.0,1.3,0.2,\n",
    "5.1,3.4,1.5,0.2,\n",
    "5.0,3.5,1.3,0.3,\n",
    "4.5,2.3,1.3,0.3,\n",
    "4.4,3.2,1.3,0.2,\n",
    "5.0,3.5,1.6,0.6,\n",
    "5.1,3.8,1.9,0.4,\n",
    "4.8,3.0,1.4,0.3,\n",
    "5.1,3.8,1.6,0.2,\n",
    "4.6,3.2,1.4,0.2,\n",
    "5.3,3.7,1.5,0.2,\n",
    "5.0,3.3,1.4,0.2,\n",
    "7.0,3.2,4.7,1.4,\n",
    "6.4,3.2,4.5,1.5,\n",
    "6.9,3.1,4.9,1.5,\n",
    "5.5,2.3,4.0,1.3,\n",
    "6.5,2.8,4.6,1.5,\n",
    "5.7,2.8,4.5,1.3,\n",
    "6.3,3.3,4.7,1.6,\n",
    "4.9,2.4,3.3,1.0,\n",
    "6.6,2.9,4.6,1.3,\n",
    "5.2,2.7,3.9,1.4,\n",
    "5.0,2.0,3.5,1.0,\n",
    "5.9,3.0,4.2,1.5,\n",
    "6.0,2.2,4.0,1.0,\n",
    "6.1,2.9,4.7,1.4,\n",
    "5.6,2.9,3.6,1.3,\n",
    "6.7,3.1,4.4,1.4,\n",
    "5.6,3.0,4.5,1.5,\n",
    "5.8,2.7,4.1,1.0,\n",
    "6.2,2.2,4.5,1.5,\n",
    "5.6,2.5,3.9,1.1,\n",
    "5.9,3.2,4.8,1.8,\n",
    "6.1,2.8,4.0,1.3,\n",
    "6.3,2.5,4.9,1.5,\n",
    "6.1,2.8,4.7,1.2,\n",
    "6.4,2.9,4.3,1.3,\n",
    "6.6,3.0,4.4,1.4,\n",
    "6.8,2.8,4.8,1.4,\n",
    "6.7,3.0,5.0,1.7,\n",
    "6.0,2.9,4.5,1.5,\n",
    "5.7,2.6,3.5,1.0,\n",
    "5.5,2.4,3.8,1.1,\n",
    "5.5,2.4,3.7,1.0,\n",
    "5.8,2.7,3.9,1.2,\n",
    "6.0,2.7,5.1,1.6,\n",
    "5.4,3.0,4.5,1.5,\n",
    "6.0,3.4,4.5,1.6,\n",
    "6.7,3.1,4.7,1.5,\n",
    "6.3,2.3,4.4,1.3,\n",
    "5.6,3.0,4.1,1.3,\n",
    "5.5,2.5,4.0,1.3,\n",
    "5.5,2.6,4.4,1.2,\n",
    "6.1,3.0,4.6,1.4,\n",
    "5.8,2.6,4.0,1.2,\n",
    "5.0,2.3,3.3,1.0,\n",
    "5.6,2.7,4.2,1.3,\n",
    "5.7,3.0,4.2,1.2,\n",
    "5.7,2.9,4.2,1.3,\n",
    "6.2,2.9,4.3,1.3,\n",
    "5.1,2.5,3.0,1.1,\n",
    "5.7,2.8,4.1,1.3,\n",
    "6.3,3.3,6.0,2.5,\n",
    "5.8,2.7,5.1,1.9,\n",
    "7.1,3.0,5.9,2.1,\n",
    "6.3,2.9,5.6,1.8,\n",
    "6.5,3.0,5.8,2.2,\n",
    "7.6,3.0,6.6,2.1,\n",
    "4.9,2.5,4.5,1.7,\n",
    "7.3,2.9,6.3,1.8,\n",
    "6.7,2.5,5.8,1.8,\n",
    "7.2,3.6,6.1,2.5,\n",
    "6.5,3.2,5.1,2.0,\n",
    "6.4,2.7,5.3,1.9,\n",
    "6.8,3.0,5.5,2.1,\n",
    "5.7,2.5,5.0,2.0,\n",
    "5.8,2.8,5.1,2.4,\n",
    "6.4,3.2,5.3,2.3,\n",
    "6.5,3.0,5.5,1.8,\n",
    "7.7,3.8,6.7,2.2,\n",
    "7.7,2.6,6.9,2.3,\n",
    "6.0,2.2,5.0,1.5,\n",
    "6.9,3.2,5.7,2.3,\n",
    "5.6,2.8,4.9,2.0,\n",
    "7.7,2.8,6.7,2.0,\n",
    "6.3,2.7,4.9,1.8,\n",
    "6.7,3.3,5.7,2.1,\n",
    "7.2,3.2,6.0,1.8,\n",
    "6.2,2.8,4.8,1.8,\n",
    "6.1,3.0,4.9,1.8,\n",
    "6.4,2.8,5.6,2.1,\n",
    "7.2,3.0,5.8,1.6,\n",
    "7.4,2.8,6.1,1.9,\n",
    "7.9,3.8,6.4,2.0,\n",
    "6.4,2.8,5.6,2.2,\n",
    "6.3,2.8,5.1,1.5,\n",
    "6.1,2.6,5.6,1.4,\n",
    "7.7,3.0,6.1,2.3,\n",
    "6.3,3.4,5.6,2.4,\n",
    "6.4,3.1,5.5,1.8,\n",
    "6.0,3.0,4.8,1.8,\n",
    "6.9,3.1,5.4,2.1,\n",
    "6.7,3.1,5.6,2.4,\n",
    "6.9,3.1,5.1,2.3,\n",
    "5.8,2.7,5.1,1.9,\n",
    "6.8,3.2,5.9,2.3,\n",
    "6.7,3.3,5.7,2.5,\n",
    "6.7,3.0,5.2,2.3,\n",
    "6.3,2.5,5.0,1.9,\n",
    "6.5,3.0,5.2,2.0,\n",
    "6.2,3.4,5.4,2.3,\n",
    "5.9,3.0,5.1,1.8]\n",
    "\n",
    "plt.hist(x, bins=10)\n",
    "plt.title(\"Sepal_Length\")\n",
    "plt.xlabel(\"Points\")\n",
    "plt.ylabel(\"Frequency\")\n",
    "plt.show()"
   ]
  },
  {
   "cell_type": "code",
   "execution_count": 9,
   "id": "71d19728",
   "metadata": {},
   "outputs": [
    {
     "data": {
      "image/png": "[encoded data removed]",
      "text/plain": [
       "<Figure size 432x288 with 1 Axes>"
      ]
     },
     "metadata": {
      "needs_background": "light"
     },
     "output_type": "display_data"
    }
   ],
   "source": [
    "x_labels = [0,20,40,60,80,100,120,140]\n",
    "y1_values = [5.13,5.41,6.312,5.2241,6.321,7.8453,8.4214,7.1211]\n",
    "y2_values = [3.13,4.21,3.315,4.093,3.74,3.122,4.453,3.211]\n",
    "y3_values = [1.13,2.41,1.332,4.841,5.931,6.8453,5.497,5.571]\n",
    "y4_values = [0.92,1.021,0.976,1.46,1.986,2.321,3.4214,2.64]\n",
    "\n",
    "plt.plot(y1_values,color=\"skyblue\", linewidth=1)\n",
    "plt.plot(y2_values,color=\"orange\", linewidth=1)\n",
    "plt.plot(y3_values,color=\"green\", linewidth=1)\n",
    "plt.plot(y4_values,color=\"red\", linewidth=1)\n",
    "plt.title(\"Iris Dataset\")\n",
    "plt.xticks(np.arange(len(x_labels)), x_labels)\n",
    "\n",
    "plt.show()"
   ]
  },
  {
   "cell_type": "code",
   "execution_count": 18,
   "id": "6e39983b",
   "metadata": {},
   "outputs": [
    {
     "data": {
      "text/plain": [
       "<seaborn.axisgrid.FacetGrid at 0x2660a1994f0>"
      ]
     },
     "execution_count": 18,
     "metadata": {},
     "output_type": "execute_result"
    },
    {
     "data": {
      "image/png": "[encoded data removed]",
      "text/plain": [
       "<Figure size 607.25x504 with 1 Axes>"
      ]
     },
     "metadata": {
      "needs_background": "light"
     },
     "output_type": "display_data"
    }
   ],
   "source": [
    "sns.FacetGrid(iris_data, hue=\"class\", height=7) \\\n",
    ".map(plt.scatter, \"Sepal Length\", \"Sepal Width\") \\\n",
    ".add_legend()"
   ]
  },
  {
   "cell_type": "code",
   "execution_count": null,
   "id": "8bcee916",
   "metadata": {},
   "outputs": [],
   "source": []
  }
 ],
 "metadata": {
  "kernelspec": {
   "display_name": "Python 3",
   "language": "python",
   "name": "python3"
  },
  "language_info": {
   "codemirror_mode": {
    "name": "ipython",
    "version": 3
   },
   "file_extension": ".py",
   "mimetype": "text/x-python",
   "name": "python",
   "nbconvert_exporter": "python",
   "pygments_lexer": "ipython3",
   "version": "3.8.8"
  }
 },
 "nbformat": 4,
 "nbformat_minor": 5
}
